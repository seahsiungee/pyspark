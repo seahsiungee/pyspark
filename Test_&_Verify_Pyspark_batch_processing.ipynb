{
 "cells": [
  {
   "cell_type": "markdown",
   "metadata": {
    "application/vnd.databricks.v1+cell": {
     "cellMetadata": {},
     "inputWidgets": {},
     "nuid": "5f153d75-96e1-47f6-98f6-bc8c4a01b19e",
     "showTitle": false,
     "tableResultSettingsMap": {},
     "title": ""
    }
   },
   "source": [
    "# Setup Env"
   ]
  },
  {
   "cell_type": "code",
   "execution_count": 0,
   "metadata": {
    "application/vnd.databricks.v1+cell": {
     "cellMetadata": {
      "byteLimit": 2048000,
      "rowLimit": 10000
     },
     "collapsed": true,
     "inputWidgets": {},
     "nuid": "c1254177-fdd7-4e9f-af73-3ed59ef5e7df",
     "showTitle": false,
     "tableResultSettingsMap": {},
     "title": ""
    }
   },
   "outputs": [
    {
     "output_type": "stream",
     "name": "stdout",
     "output_type": "stream",
     "text": [
      "Collecting elasticsearch\n  Obtaining dependency information for elasticsearch from https://files.pythonhosted.org/packages/c0/50/16306f4722ca2fcb64a5875bc1fa9b4d0bcb08c05967f60c23acd4cbb019/elasticsearch-8.17.2-py3-none-any.whl.metadata\n  Downloading elasticsearch-8.17.2-py3-none-any.whl.metadata (8.8 kB)\nCollecting elastic-transport<9,>=8.15.1 (from elasticsearch)\n  Obtaining dependency information for elastic-transport<9,>=8.15.1 from https://files.pythonhosted.org/packages/cf/cd/b71d5bc74cde7fc6fd9b2ff9389890f45d9762cbbbf81dc5e51fd7588c4a/elastic_transport-8.17.1-py3-none-any.whl.metadata\n  Downloading elastic_transport-8.17.1-py3-none-any.whl.metadata (3.8 kB)\nRequirement already satisfied: urllib3<3,>=1.26.2 in /databricks/python3/lib/python3.11/site-packages (from elastic-transport<9,>=8.15.1->elasticsearch) (1.26.16)\nRequirement already satisfied: certifi in /databricks/python3/lib/python3.11/site-packages (from elastic-transport<9,>=8.15.1->elasticsearch) (2023.7.22)\nDownloading elasticsearch-8.17.2-py3-none-any.whl (717 kB)\n\u001B[?25l   \u001B[90m━━━━━━━━━━━━━━━━━━━━━━━━━━━━━━━━━━━━━━━━\u001B[0m \u001B[32m0.0/718.0 kB\u001B[0m \u001B[31m?\u001B[0m eta \u001B[36m-:--:--\u001B[0m\n\u001B[2K   \u001B[91m━━━━━━━━━━━━━━━━━━━━━━━━━━━━━━━━━━━━━━━\u001B[0m\u001B[91m╸\u001B[0m \u001B[32m716.8/718.0 kB\u001B[0m \u001B[31m29.3 MB/s\u001B[0m eta \u001B[36m0:00:01\u001B[0m\n\u001B[2K   \u001B[90m━━━━━━━━━━━━━━━━━━━━━━━━━━━━━━━━━━━━━━━━\u001B[0m \u001B[32m718.0/718.0 kB\u001B[0m \u001B[31m20.2 MB/s\u001B[0m eta \u001B[36m0:00:00\u001B[0m\n\u001B[?25hDownloading elastic_transport-8.17.1-py3-none-any.whl (64 kB)\n\u001B[?25l   \u001B[90m━━━━━━━━━━━━━━━━━━━━━━━━━━━━━━━━━━━━━━━━\u001B[0m \u001B[32m0.0/65.0 kB\u001B[0m \u001B[31m?\u001B[0m eta \u001B[36m-:--:--\u001B[0m\n\u001B[2K   \u001B[90m━━━━━━━━━━━━━━━━━━━━━━━━━━━━━━━━━━━━━━━━\u001B[0m \u001B[32m65.0/65.0 kB\u001B[0m \u001B[31m10.6 MB/s\u001B[0m eta \u001B[36m0:00:00\u001B[0m\n\u001B[?25hInstalling collected packages: elastic-transport, elasticsearch\nSuccessfully installed elastic-transport-8.17.1 elasticsearch-8.17.2\n\u001B[43mNote: you may need to restart the kernel using %restart_python or dbutils.library.restartPython() to use updated packages.\u001B[0m\n"
     ]
    }
   ],
   "source": [
    "!pip install elasticsearch"
   ]
  },
  {
   "cell_type": "code",
   "execution_count": 0,
   "metadata": {
    "application/vnd.databricks.v1+cell": {
     "cellMetadata": {
      "byteLimit": 2048000,
      "rowLimit": 10000
     },
     "inputWidgets": {},
     "nuid": "9a7f3b3a-09f6-45d6-982c-4bff5539c632",
     "showTitle": false,
     "tableResultSettingsMap": {},
     "title": ""
    }
   },
   "outputs": [],
   "source": [
    "# Get credentials from Databricks secret scope to authenticate with elasticsearch\n",
    "es_cloud_url = dbutils.secrets.get(scope = \"snocko\", key = \"es_cloud_url\")\n",
    "es_user = dbutils.secrets.get(scope = \"snocko\", key = \"es_user\")\n",
    "es_pass = dbutils.secrets.get(scope = \"snocko\", key = \"es_pass\")\n",
    "es_cloud_url_full = \"https://\" + es_cloud_url + \":443\"\n",
    "\n",
    "from elasticsearch import Elasticsearch\n",
    "\n",
    "es = Elasticsearch(\n",
    "    [es_cloud_url_full],\n",
    "    basic_auth=(es_user, es_pass)\n",
    ")"
   ]
  },
  {
   "cell_type": "markdown",
   "metadata": {
    "application/vnd.databricks.v1+cell": {
     "cellMetadata": {},
     "inputWidgets": {},
     "nuid": "a9391341-6573-4ea3-841a-a50746a20412",
     "showTitle": false,
     "tableResultSettingsMap": {},
     "title": ""
    }
   },
   "source": [
    "# Load Sample Dataset in Elasticsearch\n",
    "- remove sample dataset in Elasticsearch and corresponding tables if `Pyspark batch processing from Elasticsearch Notebook` was executed previously"
   ]
  },
  {
   "cell_type": "code",
   "execution_count": 0,
   "metadata": {
    "application/vnd.databricks.v1+cell": {
     "cellMetadata": {
      "byteLimit": 2048000,
      "rowLimit": 10000
     },
     "collapsed": true,
     "inputWidgets": {},
     "nuid": "3f4a44ea-dd12-4916-9671-516097031eac",
     "showTitle": false,
     "tableResultSettingsMap": {},
     "title": ""
    }
   },
   "outputs": [],
   "source": [
    "# Delete trade_txn_aapl_202503 & trade_txn_amzn_202503 if it exists\n",
    "indices_to_delete = [\"trade_txn_aapl_202503\", \"trade_txn_amzn_202503\", \"trade_txn_tsla_202504\"]\n",
    "\n",
    "for index in indices_to_delete:\n",
    "    if es.indices.exists(index=index):\n",
    "        es.indices.delete(index=index)"
   ]
  },
  {
   "cell_type": "code",
   "execution_count": 0,
   "metadata": {
    "application/vnd.databricks.v1+cell": {
     "cellMetadata": {
      "byteLimit": 2048000,
      "rowLimit": 10000
     },
     "collapsed": true,
     "inputWidgets": {},
     "nuid": "5d84db9a-11a2-4936-971a-0969c748ce23",
     "showTitle": false,
     "tableResultSettingsMap": {},
     "title": ""
    }
   },
   "outputs": [
    {
     "output_type": "execute_result",
     "data": {
      "text/plain": [
       "ObjectApiResponse({'_index': 'trade_txn_amzn_202503', '_id': '77d80c91-5cd7-46ed-aef4-2cfeac060d20', '_version': 1, 'result': 'created', '_shards': {'total': 2, 'successful': 1, 'failed': 0}, '_seq_no': 0, '_primary_term': 1})"
      ]
     },
     "execution_count": 141,
     "metadata": {},
     "output_type": "execute_result"
    }
   ],
   "source": [
    "# Create Indices and load sample data\n",
    "\n",
    "# Create trade_txn_aapl_202503 index\n",
    "es.indices.create(index=\"trade_txn_aapl_202503\", body={\n",
    "    \"mappings\": {\n",
    "        \"properties\": {\n",
    "            \"create_timestamp\": {\"type\": \"date\"},\n",
    "            \"order_id\": {\"type\": \"keyword\"},\n",
    "            \"price\": {\"type\": \"float\"},\n",
    "            \"quantity\": {\"type\": \"long\"},\n",
    "            \"status\": {\"type\": \"keyword\"},\n",
    "            \"stock_symbol\": {\n",
    "                \"type\": \"text\",\n",
    "                \"fields\": {\n",
    "                    \"keyword\": {\"type\": \"keyword\", \"ignore_above\": 256}\n",
    "                }\n",
    "            },\n",
    "            \"sub_transactions\": {\n",
    "                \"type\": \"nested\",\n",
    "                \"properties\": {\n",
    "                    \"matched_order_id\": {\"type\": \"keyword\"},\n",
    "                    \"price_executed\": {\"type\": \"float\"},\n",
    "                    \"quantity_fulfilled\": {\"type\": \"long\"},\n",
    "                    \"sub_transaction_id\": {\"type\": \"keyword\"},\n",
    "                    \"timestamp\": {\"type\": \"date\"}\n",
    "                }\n",
    "            },\n",
    "            \"trader_id\": {\"type\": \"keyword\"},\n",
    "            \"type\": {\"type\": \"keyword\"},\n",
    "            \"update_timestamp\": {\"type\": \"date\"}\n",
    "        }\n",
    "    }\n",
    "})\n",
    "\n",
    "# Create trade_txn_amzn_202503 index\n",
    "es.indices.create(index=\"trade_txn_amzn_202503\", body={\n",
    "    \"mappings\": {\n",
    "        \"properties\": {\n",
    "            \"create_timestamp\": {\"type\": \"date\"},\n",
    "            \"order_id\": {\"type\": \"keyword\"},\n",
    "            \"price\": {\"type\": \"float\"},\n",
    "            \"quantity\": {\"type\": \"long\"},\n",
    "            \"status\": {\"type\": \"keyword\"},\n",
    "            \"stock_symbol\": {\n",
    "                \"type\": \"text\",\n",
    "                \"fields\": {\n",
    "                    \"keyword\": {\"type\": \"keyword\", \"ignore_above\": 256}\n",
    "                }\n",
    "            },\n",
    "            \"sub_transactions\": {\n",
    "                \"type\": \"nested\",\n",
    "                \"properties\": {\n",
    "                    \"matched_order_id\": {\"type\": \"keyword\"},\n",
    "                    \"price_executed\": {\"type\": \"float\"},\n",
    "                    \"quantity_fulfilled\": {\"type\": \"long\"},\n",
    "                    \"sub_transaction_id\": {\"type\": \"keyword\"},\n",
    "                    \"timestamp\": {\"type\": \"date\"}\n",
    "                }\n",
    "            },\n",
    "            \"trader_id\": {\"type\": \"keyword\"},\n",
    "            \"type\": {\"type\": \"keyword\"},\n",
    "            \"update_timestamp\": {\"type\": \"date\"}\n",
    "        }\n",
    "    }\n",
    "})\n",
    "\n",
    "# write sample data into trade_txn_aapl_202503\n",
    "es.index(index=\"trade_txn_aapl_202503\", id= \"7c3ba3ec-2cca-467b-b32e-caf253746205\", document = {\n",
    "    \"order_id\": \"7c3ba3ec-2cca-467b-b32e-caf253746205\",\n",
    "    \"trader_id\": \"5b2654f5-cba4-486f-8f2a-449c76b5d208\",\n",
    "    \"type\": \"buy\",\n",
    "    \"stock_symbol\": \"AAPL\",\n",
    "    \"quantity\": 4086,\n",
    "    \"price\": 103.72,\n",
    "    \"status\": \"partially_filled\",\n",
    "    \"create_timestamp\": \"2025-03-23T11:16:40.689000Z\",\n",
    "    \"update_timestamp\": \"2025-03-30T08:10:43.282000Z\",\n",
    "    \"sub_transactions\": [\n",
    "        {\n",
    "            \"sub_transaction_id\": \"5c94aa8c-7f72-4454-83d0-1d921a680a6b\",\n",
    "            \"matched_order_id\": \"899bee50-0349-4ba5-93f2-672f6a570d72\",\n",
    "            \"quantity_fulfilled\": 887,\n",
    "            \"price_executed\": 104.61,\n",
    "            \"timestamp\": \"2025-03-23T18:17:14.828000Z\"\n",
    "        },\n",
    "        {\n",
    "            \"sub_transaction_id\": \"0c49cfee-562e-4439-8398-d7eaeed3c1ca\",\n",
    "            \"matched_order_id\": \"8675f9d8-3298-4701-bd37-be3b23c74c09\",\n",
    "            \"quantity_fulfilled\": 493,\n",
    "            \"price_executed\": 102.87,\n",
    "            \"timestamp\": \"2025-03-26T10:29:22.262000Z\"\n",
    "        },\n",
    "        {\n",
    "            \"sub_transaction_id\": \"c91574d2-01be-45b2-86ee-64c308b9d6f7\",\n",
    "            \"matched_order_id\": \"47b727b5-002d-4d0c-9440-649d30628cb4\",\n",
    "            \"quantity_fulfilled\": 574,\n",
    "            \"price_executed\": 104.59,\n",
    "            \"timestamp\": \"2025-03-28T22:29:07.009000Z\"\n",
    "        },\n",
    "        {\n",
    "            \"sub_transaction_id\": \"96d9c2e2-0c9e-494c-9693-a2f6df8a2bfe\",\n",
    "            \"matched_order_id\": \"c1ea7c62-4e9b-422c-a854-80a8c22012a6\",\n",
    "            \"quantity_fulfilled\": 357,\n",
    "            \"price_executed\": 103.93,\n",
    "            \"timestamp\": \"2025-03-30T08:10:43.282000Z\"\n",
    "        }\n",
    "    ]\n",
    "})\n",
    "\n",
    "# write sample data into trade_txn_amzn_202503\n",
    "es.index(index=\"trade_txn_amzn_202503\", id=\"77d80c91-5cd7-46ed-aef4-2cfeac060d20\", document = {\n",
    "    \"order_id\": \"77d80c91-5cd7-46ed-aef4-2cfeac060d20\",\n",
    "    \"trader_id\": \"ec390790-1521-491a-9636-ff4a32c8307a\",\n",
    "    \"type\": \"sell\",\n",
    "    \"stock_symbol\": \"AMZN\",\n",
    "    \"quantity\": 1673,\n",
    "    \"price\": 274.77,\n",
    "    \"status\": \"open\",\n",
    "    \"create_timestamp\": \"2025-03-30T10:10:43.282000Z\",\n",
    "    \"update_timestamp\": \"2025-03-30T10:10:43.282000Z\",\n",
    "    \"sub_transactions\": []\n",
    "})"
   ]
  },
  {
   "cell_type": "code",
   "execution_count": 0,
   "metadata": {
    "application/vnd.databricks.v1+cell": {
     "cellMetadata": {
      "byteLimit": 2048000,
      "rowLimit": 10000
     },
     "inputWidgets": {},
     "nuid": "f488825e-46e5-4d5c-b09e-520603c119e9",
     "showTitle": false,
     "tableResultSettingsMap": {},
     "title": ""
    }
   },
   "outputs": [
    {
     "output_type": "execute_result",
     "data": {
      "text/plain": [
       "DataFrame[]"
      ]
     },
     "execution_count": 142,
     "metadata": {},
     "output_type": "execute_result"
    }
   ],
   "source": [
    "# Drop Tables if exist\n",
    "spark.sql(\"DROP TABLE IF EXISTS hive_metastore.default.trade_txn_amzn_202503\")\n",
    "spark.sql(\"DROP TABLE IF EXISTS hive_metastore.default.trade_txn_aapl_202503\")\n",
    "spark.sql(\"DROP TABLE IF EXISTS hive_metastore.default.trade_txn_tsla_202504\")\n",
    "spark.sql(\"DROP TABLE IF EXISTS hive_metastore.default.tracking_table\")"
   ]
  },
  {
   "cell_type": "markdown",
   "metadata": {
    "application/vnd.databricks.v1+cell": {
     "cellMetadata": {},
     "inputWidgets": {},
     "nuid": "8d55e0b1-f637-418b-b069-d105aec16cfb",
     "showTitle": false,
     "tableResultSettingsMap": {},
     "title": ""
    }
   },
   "source": [
    "# Execute `Pyspark batch processing from Elasticsearch` Notebook\n",
    "- Execute the notebook to load the initial sample dataset into the tables\n",
    "- Verify count of records in elasticsearch indices is the same as what is written into tables"
   ]
  },
  {
   "cell_type": "code",
   "execution_count": 0,
   "metadata": {
    "application/vnd.databricks.v1+cell": {
     "cellMetadata": {
      "byteLimit": 2048000,
      "rowLimit": 10000
     },
     "inputWidgets": {},
     "nuid": "df95ecff-cf9f-4395-af2e-d22ace090b59",
     "showTitle": false,
     "tableResultSettingsMap": {},
     "title": ""
    }
   },
   "outputs": [
    {
     "output_type": "stream",
     "name": "stdout",
     "output_type": "stream",
     "text": [
      "Elasticsearch | Count of records in trade_txn_aapl_202503:  1\nElasticsearch | Count of nested objects in trade_txn_aapl_202503:  {'value': 4}\nElasticsearch | Count of records in trade_txn_amzn_202503:  1\nElasticsearch | Count of nested objects in trade_txn_amzn_202503:  {'value': 0}\n"
     ]
    }
   ],
   "source": [
    "# Get count of records in respective Elasticsearch Indices\n",
    "def count_nested_objects(index_name):\n",
    "    query = {\n",
    "        \"size\": 0,\n",
    "        \"aggs\": {\n",
    "            \"nested_count\": {\n",
    "                \"nested\": {\n",
    "                    \"path\": \"sub_transactions\"\n",
    "                },\n",
    "                \"aggs\": {\n",
    "                    \"count\": {\n",
    "                        \"value_count\": {\n",
    "                            \"field\": \"sub_transactions.sub_transaction_id\"\n",
    "                        }\n",
    "                    }\n",
    "                }\n",
    "            }\n",
    "        }\n",
    "    }\n",
    "    response = es.search(index=index_name, body=query)\n",
    "    return response['aggregations']['nested_count']['count']\n",
    "\n",
    "# Get count of trade records in trade_txn_aapl_202503\n",
    "aapl_count = es.count(index=\"trade_txn_aapl_202503\")['count']\n",
    "aapl_nested_count = count_nested_objects(\"trade_txn_aapl_202503\")\n",
    "\n",
    "print(\"Elasticsearch | Count of records in trade_txn_aapl_202503: \", aapl_count)\n",
    "print(\"Elasticsearch | Count of nested objects in trade_txn_aapl_202503: \", aapl_nested_count)\n",
    "\n",
    "# Get count of trade records in trade_txn_amzn_202503\n",
    "amzn_count = es.count(index=\"trade_txn_amzn_202503\")['count']\n",
    "amzn_nested_count = count_nested_objects(\"trade_txn_amzn_202503\")\n",
    "\n",
    "print(\"Elasticsearch | Count of records in trade_txn_amzn_202503: \", amzn_count)\n",
    "print(\"Elasticsearch | Count of nested objects in trade_txn_amzn_202503: \", amzn_nested_count)\n"
   ]
  },
  {
   "cell_type": "code",
   "execution_count": 0,
   "metadata": {
    "application/vnd.databricks.v1+cell": {
     "cellMetadata": {
      "byteLimit": 2048000,
      "rowLimit": 10000
     },
     "inputWidgets": {},
     "nuid": "c9a13f71-5aa6-410d-af5e-5b0916b3d940",
     "showTitle": false,
     "tableResultSettingsMap": {},
     "title": ""
    }
   },
   "outputs": [
    {
     "output_type": "stream",
     "name": "stdout",
     "output_type": "stream",
     "text": [
      "last_execution_time: 2025-03-30T10:10:43.282000\nTable | Count of records in trade_txn_aapl_202503: 1\nTable | Count of objects in sub_transactions for trade_txn_aapl_202503: 4\nTable | Count of records in trade_txn_amzn_202503: 1\nTable | Count of objects in sub_transactions for trade_txn_amzn_202503: 0\nlatest timestamp in tracking_table: 2025-03-30T10:10:43.282000\n"
     ]
    }
   ],
   "source": [
    "# Get count of records in respective Tables\n",
    "from pyspark.sql.functions import max\n",
    "\n",
    "# Check last_execution_time in tracking_table\n",
    "tracking_table = \"hive_metastore.default.tracking_table\"\n",
    "last_execution_time = spark.table(tracking_table).select(max(\"last_execution_time\")).collect()[0][0]\n",
    "print(\"last_execution_time: \" + str(last_execution_time))\n",
    "\n",
    "# Get count of trade records in trade_txn_aapl_202503\n",
    "trade_txn_aapl_202503 = spark.table(\"trade_txn_aapl_202503\")\n",
    "aapl_sub_txn_count = trade_txn_aapl_202503.selectExpr(\"size(sub_transactions) as sub_transaction_count\").agg({\"sub_transaction_count\": \"sum\"}).collect()[0][0]\n",
    "\n",
    "print(\"Table | Count of records in trade_txn_aapl_202503: \" + str(trade_txn_aapl_202503.count()))\n",
    "print(\"Table | Count of objects in sub_transactions for trade_txn_aapl_202503: \" + str(aapl_sub_txn_count))\n",
    "\n",
    "# Get count of trade records in trade_txn_amzn_202503\n",
    "trade_txn_amzn_202503 = spark.table(\"trade_txn_amzn_202503\")\n",
    "amzn_sub_txn_count = trade_txn_amzn_202503.selectExpr(\"size(sub_transactions) as sub_transaction_count\").agg({\"sub_transaction_count\": \"sum\"}).collect()[0][0]\n",
    "\n",
    "print(\"Table | Count of records in trade_txn_amzn_202503: \" + str(trade_txn_amzn_202503.count()))\n",
    "print(\"Table | Count of objects in sub_transactions for trade_txn_amzn_202503: \" + str(amzn_sub_txn_count))\n",
    "\n",
    "tracking_df = spark.table(tracking_table)\n",
    "print(\"latest timestamp in tracking_table: \" + tracking_df.select(max(\"last_execution_time\")).collect()[0][0])"
   ]
  },
  {
   "cell_type": "markdown",
   "metadata": {
    "application/vnd.databricks.v1+cell": {
     "cellMetadata": {},
     "inputWidgets": {},
     "nuid": "7b694efb-7839-4e7d-b537-b1e2dbede849",
     "showTitle": false,
     "tableResultSettingsMap": {},
     "title": ""
    }
   },
   "source": [
    "# Simulate new data in Elasticsearch Indices\n",
    "- new trade transactions\n",
    "- existing trade transactions updated with new sub transactions in nested field"
   ]
  },
  {
   "cell_type": "code",
   "execution_count": 0,
   "metadata": {
    "application/vnd.databricks.v1+cell": {
     "cellMetadata": {
      "byteLimit": 2048000,
      "rowLimit": 10000
     },
     "collapsed": true,
     "inputWidgets": {},
     "nuid": "a8e5a22c-9539-4e66-b6c7-b0954f3af631",
     "showTitle": false,
     "tableResultSettingsMap": {},
     "title": ""
    }
   },
   "outputs": [
    {
     "output_type": "execute_result",
     "data": {
      "text/plain": [
       "ObjectApiResponse({'_index': 'trade_txn_tsla_202504', '_id': 'afb6cf8a-47aa-4116-9615-53967d72085e', '_version': 1, 'result': 'created', '_shards': {'total': 2, 'successful': 1, 'failed': 0}, '_seq_no': 0, '_primary_term': 1})"
      ]
     },
     "execution_count": 145,
     "metadata": {},
     "output_type": "execute_result"
    }
   ],
   "source": [
    "# Simulate adding of new data & updating transactions in Elasticsearch\n",
    "\n",
    "# Update existing document in trade_txn_aapl_202503\n",
    "es.index(index=\"trade_txn_aapl_202503\", id=\"7c3ba3ec-2cca-467b-b32e-caf253746205\", document = {\n",
    "    \"order_id\": \"7c3ba3ec-2cca-467b-b32e-caf253746205\",\n",
    "    \"trader_id\": \"5b2654f5-cba4-486f-8f2a-449c76b5d208\",\n",
    "    \"type\": \"buy\",\n",
    "    \"stock_symbol\": \"AAPL\",\n",
    "    \"quantity\": 4086,\n",
    "    \"price\": 103.72,\n",
    "    \"status\": \"fully_filled\",\n",
    "    \"create_timestamp\": \"2025-03-23T11:16:40.689000Z\",\n",
    "    \"update_timestamp\": \"2025-04-02T09:50:12.959000Z\",\n",
    "    \"sub_transactions\": [\n",
    "        {\n",
    "            \"sub_transaction_id\": \"5c94aa8c-7f72-4454-83d0-1d921a680a6b\",\n",
    "            \"matched_order_id\": \"899bee50-0349-4ba5-93f2-672f6a570d72\",\n",
    "            \"quantity_fulfilled\": 887,\n",
    "            \"price_executed\": 104.61,\n",
    "            \"timestamp\": \"2025-03-23T18:17:14.828000Z\"\n",
    "        },\n",
    "        {\n",
    "            \"sub_transaction_id\": \"0c49cfee-562e-4439-8398-d7eaeed3c1ca\",\n",
    "            \"matched_order_id\": \"8675f9d8-3298-4701-bd37-be3b23c74c09\",\n",
    "            \"quantity_fulfilled\": 493,\n",
    "            \"price_executed\": 102.87,\n",
    "            \"timestamp\": \"2025-03-26T10:29:22.262000Z\"\n",
    "        },\n",
    "        {\n",
    "            \"sub_transaction_id\": \"c91574d2-01be-45b2-86ee-64c308b9d6f7\",\n",
    "            \"matched_order_id\": \"47b727b5-002d-4d0c-9440-649d30628cb4\",\n",
    "            \"quantity_fulfilled\": 574,\n",
    "            \"price_executed\": 104.59,\n",
    "            \"timestamp\": \"2025-03-28T22:29:07.009000Z\"\n",
    "        },\n",
    "        {\n",
    "            \"sub_transaction_id\": \"96d9c2e2-0c9e-494c-9693-a2f6df8a2bfe\",\n",
    "            \"matched_order_id\": \"c1ea7c62-4e9b-422c-a854-80a8c22012a6\",\n",
    "            \"quantity_fulfilled\": 357,\n",
    "            \"price_executed\": 103.93,\n",
    "            \"timestamp\": \"2025-03-30T08:10:43.282000Z\"\n",
    "        },\n",
    "        {\n",
    "            \"sub_transaction_id\": \"3be60b36-ca8f-4d7a-a9c3-f5911f5ce764\",\n",
    "            \"matched_order_id\": \"fa25297a-29ba-4e85-8cd9-6f1db0486d21\",\n",
    "            \"quantity_fulfilled\": 326,\n",
    "            \"price_executed\": 103.39,\n",
    "            \"timestamp\": \"2025-04-02T00:14:06.623000Z\"\n",
    "        },\n",
    "        {\n",
    "            \"sub_transaction_id\": \"efb07594-f427-4a45-94c2-703413a3e70f\",\n",
    "            \"matched_order_id\": \"1aa72bea-fe89-4687-8dd7-93b64e28c56b\",\n",
    "            \"quantity_fulfilled\": 670,\n",
    "            \"price_executed\": 103.36,\n",
    "            \"timestamp\": \"2025-04-02T01:26:14.285000Z\"\n",
    "        },\n",
    "        {\n",
    "            \"sub_transaction_id\": \"6fcf333b-b966-4016-8403-c2e60b86eb20\",\n",
    "            \"matched_order_id\": \"c600f79f-7bbb-4c62-9d42-2a379a55342e\",\n",
    "            \"quantity_fulfilled\": 293,\n",
    "            \"price_executed\": 103.85,\n",
    "            \"timestamp\": \"2025-04-02T09:25:16.523000Z\"\n",
    "        },\n",
    "        {\n",
    "            \"sub_transaction_id\": \"0ce52064-709b-46ba-ab31-128488dc99e6\",\n",
    "            \"matched_order_id\": \"9182a249-c86a-455e-ae4c-eadec03bc96f\",\n",
    "            \"quantity_fulfilled\": 486,\n",
    "            \"price_executed\": 103.58,\n",
    "            \"timestamp\": \"2025-04-02T09:50:12.959000Z\"\n",
    "        }\n",
    "    ]\n",
    "})\n",
    "\n",
    "# Update existing document in trade_txn_amzn_202503\n",
    "es.index(index=\"trade_txn_amzn_202503\", id=\"77d80c91-5cd7-46ed-aef4-2cfeac060d20\", document = {\n",
    "    \"order_id\": \"77d80c91-5cd7-46ed-aef4-2cfeac060d20\",\n",
    "    \"trader_id\": \"ec390790-1521-491a-9636-ff4a32c8307a\",\n",
    "    \"type\": \"sell\",\n",
    "    \"stock_symbol\": \"AMZN\",\n",
    "    \"quantity\": 1673,\n",
    "    \"price\": 274.77,\n",
    "    \"status\": \"fully_filled\",\n",
    "    \"create_timestamp\": \"2025-03-30T10:10:43.282000Z\",\n",
    "    \"update_timestamp\": \"2025-03-31T13:15:33.481000Z\",\n",
    "    \"sub_transactions\": [\n",
    "      {\n",
    "        \"sub_transaction_id\": \"e096e1b8-9e19-49ba-af56-a7561fda5b6f\",\n",
    "        \"matched_order_id\": \"98192ab8-cb0e-4f2a-a674-dc55e926e79d\",\n",
    "        \"quantity_fulfilled\": 790,\n",
    "        \"price_executed\": 274.76,\n",
    "        \"timestamp\": \"2025-03-30T11:10:43.282000Z\"\n",
    "      },\n",
    "      {\n",
    "        \"sub_transaction_id\": \"8b80c719-8731-417e-badb-6ac572613a41\",\n",
    "        \"matched_order_id\": \"cc4a0ac9-5fd2-4e79-94cb-cda786797b29\",\n",
    "        \"quantity_fulfilled\": 852,\n",
    "        \"price_executed\": 273.79,\n",
    "        \"timestamp\": \"2025-03-30T15:10:12.185000Z\"\n",
    "      },\n",
    "      {\n",
    "        \"sub_transaction_id\": \"a236ad4e-6ea6-4e32-a021-0628bf70ed9e\",\n",
    "        \"matched_order_id\": \"1c631818-b798-46f9-9681-81473ede1828\",\n",
    "        \"quantity_fulfilled\": 31,\n",
    "        \"price_executed\": 274.27,\n",
    "        \"timestamp\": \"2025-03-31T13:15:33.481000Z\"\n",
    "      }\n",
    "    ]\n",
    "})\n",
    "\n",
    "# New document in trade_txn_amzn_202503\n",
    "es.index(index=\"trade_txn_amzn_202503\", id=\"168c2ee9-e4b7-44f0-bbad-60fab8c0cec8\", document = {\n",
    "    \"order_id\": \"168c2ee9-e4b7-44f0-bbad-60fab8c0cec8\",\n",
    "    \"trader_id\": \"14a81084-b8c6-4fdd-b94d-0bd88e49b7de\",\n",
    "    \"type\": \"buy\",\n",
    "    \"stock_symbol\": \"AMZN\",\n",
    "    \"quantity\": 3266,\n",
    "    \"price\": 244.02,\n",
    "    \"status\": \"fully_filled\",\n",
    "    \"create_timestamp\": \"2025-03-30T21:32:14.087000Z\",\n",
    "    \"update_timestamp\": \"2025-04-01T17:57:49.363000Z\",\n",
    "    \"sub_transactions\": [\n",
    "      {\n",
    "        \"sub_transaction_id\": \"f16f2dcb-fead-48e1-aa6a-3d176d149b10\",\n",
    "        \"matched_order_id\": \"2809cda0-9b64-4e9a-94b4-ae44db2e2e56\",\n",
    "        \"quantity_fulfilled\": 1166,\n",
    "        \"price_executed\": 244.6,\n",
    "        \"timestamp\": \"2025-03-30T21:32:14.087000Z\"\n",
    "      },\n",
    "      {\n",
    "        \"sub_transaction_id\": \"ef9c3466-d708-4633-804a-a156fe5c9c3b\",\n",
    "        \"matched_order_id\": \"53b54b9f-d064-4d78-a136-caaea2f6bf85\",\n",
    "        \"quantity_fulfilled\": 1000,\n",
    "        \"price_executed\": 243.84,\n",
    "        \"timestamp\": \"2025-04-01T13:33:03.844000Z\"\n",
    "      },\n",
    "      {\n",
    "        \"sub_transaction_id\": \"4043fb0d-b435-4255-ac3b-f422263273fa\",\n",
    "        \"matched_order_id\": \"750861d2-3618-4b08-bd47-5ca21848110d\",\n",
    "        \"quantity_fulfilled\": 1100,\n",
    "        \"price_executed\": 242.5,\n",
    "        \"timestamp\": \"2025-04-01T17:57:49.363000Z\"\n",
    "      }\n",
    "    ]\n",
    "})\n",
    "\n",
    "# Trade on new stock symbol trade_txn_tsla_202503\n",
    "\n",
    "# Create trade_txn_tsla_202504 index\n",
    "es.indices.create(index=\"trade_txn_tsla_202504\", body={\n",
    "    \"mappings\": {\n",
    "        \"properties\": {\n",
    "            \"create_timestamp\": {\"type\": \"date\"},\n",
    "            \"order_id\": {\"type\": \"keyword\"},\n",
    "            \"price\": {\"type\": \"float\"},\n",
    "            \"quantity\": {\"type\": \"long\"},\n",
    "            \"status\": {\"type\": \"keyword\"},\n",
    "            \"stock_symbol\": {\n",
    "                \"type\": \"text\",\n",
    "                \"fields\": {\n",
    "                    \"keyword\": {\"type\": \"keyword\", \"ignore_above\": 256}\n",
    "                }\n",
    "            },\n",
    "            \"sub_transactions\": {\n",
    "                \"type\": \"nested\",\n",
    "                \"properties\": {\n",
    "                    \"matched_order_id\": {\"type\": \"keyword\"},\n",
    "                    \"price_executed\": {\"type\": \"float\"},\n",
    "                    \"quantity_fulfilled\": {\"type\": \"long\"},\n",
    "                    \"sub_transaction_id\": {\"type\": \"keyword\"},\n",
    "                    \"timestamp\": {\"type\": \"date\"}\n",
    "                }\n",
    "            },\n",
    "            \"trader_id\": {\"type\": \"keyword\"},\n",
    "            \"type\": {\"type\": \"keyword\"},\n",
    "            \"update_timestamp\": {\"type\": \"date\"}\n",
    "        }\n",
    "    }\n",
    "})\n",
    "\n",
    "es.index(index=\"trade_txn_tsla_202504\", id=\"afb6cf8a-47aa-4116-9615-53967d72085e\", document = {\n",
    "    \"order_id\": \"afb6cf8a-47aa-4116-9615-53967d72085e\",\n",
    "    \"trader_id\": \"c658f3f1-e69f-4538-993c-f6ce032afb82\",\n",
    "    \"type\": \"sell\",\n",
    "    \"stock_symbol\": \"TSLA\",\n",
    "    \"quantity\": 2403,\n",
    "    \"price\": 299.43,\n",
    "    \"status\": \"fully_filled\",\n",
    "    \"create_timestamp\": \"2025-04-01T01:49:13.466000Z\",\n",
    "    \"update_timestamp\": \"2025-04-02T05:39:02.988000Z\",\n",
    "    \"sub_transactions\": [\n",
    "      {\n",
    "        \"sub_transaction_id\": \"132e9c5b-e387-4d6c-b719-1bfc33d6a6e9\",\n",
    "        \"matched_order_id\": \"69aacf41-c7fa-4293-b871-a6d069dd1fc6\",\n",
    "        \"quantity_fulfilled\": 542,\n",
    "        \"price_executed\": 299.38,\n",
    "        \"timestamp\": \"2025-04-01T01:49:13.466000Z\"\n",
    "      },\n",
    "      {\n",
    "        \"sub_transaction_id\": \"eeffe6ec-0c79-4e28-8580-2ab2ca884014\",\n",
    "        \"matched_order_id\": \"d8ad4eda-f7ef-460e-836e-1e18b8b889e4\",\n",
    "        \"quantity_fulfilled\": 311,\n",
    "        \"price_executed\": 300.08,\n",
    "        \"timestamp\": \"2025-04-01T14:05:56.802000Z\"\n",
    "      },\n",
    "      {\n",
    "        \"sub_transaction_id\": \"4b6486f4-1855-4f26-ad2d-adda010c0107\",\n",
    "        \"matched_order_id\": \"2bc268c6-abd2-47dd-8722-277a5541f7d5\",\n",
    "        \"quantity_fulfilled\": 1550,\n",
    "        \"price_executed\": 298.75,\n",
    "        \"timestamp\": \"2025-04-02T05:39:02.988000Z\"\n",
    "      }\n",
    "    ]\n",
    "})"
   ]
  },
  {
   "cell_type": "markdown",
   "metadata": {
    "application/vnd.databricks.v1+cell": {
     "cellMetadata": {},
     "inputWidgets": {},
     "nuid": "b4bd6213-370d-42a2-9824-ce3b15b655e4",
     "showTitle": false,
     "tableResultSettingsMap": {},
     "title": ""
    }
   },
   "source": [
    "# 2nd Execution of `Pyspark batch processing from Elasticsearch` Notebook\n",
    "- Execute the notebook to update dataset into the tables\n",
    "- Verify count of records in elasticsearch indices is the same as what is written into tables"
   ]
  },
  {
   "cell_type": "code",
   "execution_count": 0,
   "metadata": {
    "application/vnd.databricks.v1+cell": {
     "cellMetadata": {
      "byteLimit": 2048000,
      "rowLimit": 10000
     },
     "inputWidgets": {},
     "nuid": "55bf2686-d7e3-42da-85a8-736a327e62bc",
     "showTitle": false,
     "tableResultSettingsMap": {},
     "title": ""
    }
   },
   "outputs": [
    {
     "output_type": "stream",
     "name": "stdout",
     "output_type": "stream",
     "text": [
      "Elasticsearch | Count of records in trade_txn_aapl_202503:  1\nElasticsearch | Count of nested objects in trade_txn_aapl_202503:  {'value': 8}\nElasticsearch | Count of records in trade_txn_amzn_202503:  2\nElasticsearch | Count of nested objects in trade_txn_amzn_202503:  {'value': 6}\nElasticsearch | Count of records in trade_txn_tsla_202504:  1\nElasticsearch | Count of nested objects in trade_txn_tsla_202504:  {'value': 3}\n"
     ]
    }
   ],
   "source": [
    "# Get count of records in respective Elasticsearch Indices\n",
    "def count_nested_objects(index_name):\n",
    "    query = {\n",
    "        \"size\": 0,\n",
    "        \"aggs\": {\n",
    "            \"nested_count\": {\n",
    "                \"nested\": {\n",
    "                    \"path\": \"sub_transactions\"\n",
    "                },\n",
    "                \"aggs\": {\n",
    "                    \"count\": {\n",
    "                        \"value_count\": {\n",
    "                            \"field\": \"sub_transactions.sub_transaction_id\"\n",
    "                        }\n",
    "                    }\n",
    "                }\n",
    "            }\n",
    "        }\n",
    "    }\n",
    "    response = es.search(index=index_name, body=query)\n",
    "    return response['aggregations']['nested_count']['count']\n",
    "\n",
    "# Get count of trade records in trade_txn_aapl_202503\n",
    "aapl_count = es.count(index=\"trade_txn_aapl_202503\")['count']\n",
    "aapl_nested_count = count_nested_objects(\"trade_txn_aapl_202503\")\n",
    "\n",
    "print(\"Elasticsearch | Count of records in trade_txn_aapl_202503: \", aapl_count)\n",
    "print(\"Elasticsearch | Count of nested objects in trade_txn_aapl_202503: \", aapl_nested_count)\n",
    "\n",
    "# Get count of trade records in trade_txn_amzn_202503\n",
    "amzn_count = es.count(index=\"trade_txn_amzn_202503\")['count']\n",
    "amzn_nested_count = count_nested_objects(\"trade_txn_amzn_202503\")\n",
    "\n",
    "print(\"Elasticsearch | Count of records in trade_txn_amzn_202503: \", amzn_count)\n",
    "print(\"Elasticsearch | Count of nested objects in trade_txn_amzn_202503: \", amzn_nested_count)\n",
    "\n",
    "# Get count of trade records in trade_txn_tsla_202504\n",
    "tsla_count = es.count(index=\"trade_txn_tsla_202504\")['count']\n",
    "tsla_nested_count = count_nested_objects(\"trade_txn_tsla_202504\")\n",
    "\n",
    "print(\"Elasticsearch | Count of records in trade_txn_tsla_202504: \", tsla_count)\n",
    "print(\"Elasticsearch | Count of nested objects in trade_txn_tsla_202504: \", tsla_nested_count)\n"
   ]
  },
  {
   "cell_type": "code",
   "execution_count": 0,
   "metadata": {
    "application/vnd.databricks.v1+cell": {
     "cellMetadata": {
      "byteLimit": 2048000,
      "rowLimit": 10000
     },
     "inputWidgets": {},
     "nuid": "b843f6ea-6b6a-4e6e-9ebe-fe48317c3d36",
     "showTitle": false,
     "tableResultSettingsMap": {},
     "title": ""
    }
   },
   "outputs": [
    {
     "output_type": "stream",
     "name": "stdout",
     "output_type": "stream",
     "text": [
      "last_execution_time: 2025-04-02T09:50:12.959000\nTable | Count of records in trade_txn_aapl_202503: 1\nTable | Count of objects in sub_transactions for trade_txn_aapl_202503: 8\nTable | Count of records in trade_txn_amzn_202503: 2\nTable | Count of objects in sub_transactions for trade_txn_amzn_202503: 6\nTable | Count of records in trade_txn_tsla_202504: 1\nTable | Count of objects in sub_transactions for trade_txn_tsla_202504: 3\nlatest timestamp in tracking_table: 2025-04-02T09:50:12.959000\n"
     ]
    }
   ],
   "source": [
    "# Get count of records in respective Tables\n",
    "from pyspark.sql.functions import max\n",
    "\n",
    "# Check last_execution_time in tracking_table\n",
    "tracking_table = \"hive_metastore.default.tracking_table\"\n",
    "last_execution_time = spark.table(tracking_table).select(max(\"last_execution_time\")).collect()[0][0]\n",
    "print(\"last_execution_time: \" + str(last_execution_time))\n",
    "\n",
    "# Get count of trade records in trade_txn_aapl_202503\n",
    "trade_txn_aapl_202503 = spark.table(\"trade_txn_aapl_202503\")\n",
    "aapl_sub_txn_count = trade_txn_aapl_202503.selectExpr(\"size(sub_transactions) as sub_transaction_count\").agg({\"sub_transaction_count\": \"sum\"}).collect()[0][0]\n",
    "\n",
    "print(\"Table | Count of records in trade_txn_aapl_202503: \" + str(trade_txn_aapl_202503.count()))\n",
    "print(\"Table | Count of objects in sub_transactions for trade_txn_aapl_202503: \" + str(aapl_sub_txn_count))\n",
    "\n",
    "# Get count of trade records in trade_txn_amzn_202503\n",
    "trade_txn_amzn_202503 = spark.table(\"trade_txn_amzn_202503\")\n",
    "amzn_sub_txn_count = trade_txn_amzn_202503.selectExpr(\"size(sub_transactions) as sub_transaction_count\").agg({\"sub_transaction_count\": \"sum\"}).collect()[0][0]\n",
    "\n",
    "print(\"Table | Count of records in trade_txn_amzn_202503: \" + str(trade_txn_amzn_202503.count()))\n",
    "print(\"Table | Count of objects in sub_transactions for trade_txn_amzn_202503: \" + str(amzn_sub_txn_count))\n",
    "\n",
    "# Get count of trade records in trade_txn_tsla_202504\n",
    "trade_txn_tsla_202504 = spark.table(\"trade_txn_tsla_202504\")\n",
    "tsla_sub_txn_count = trade_txn_tsla_202504.selectExpr(\"size(sub_transactions) as sub_transaction_count\").agg({\"sub_transaction_count\": \"sum\"}).collect()[0][0]\n",
    "\n",
    "print(\"Table | Count of records in trade_txn_tsla_202504: \" + str(trade_txn_tsla_202504.count()))\n",
    "print(\"Table | Count of objects in sub_transactions for trade_txn_tsla_202504: \" + str(tsla_sub_txn_count))\n",
    "\n",
    "print(\"latest timestamp in tracking_table: \" + tracking_df.select(max(\"last_execution_time\")).collect()[0][0])"
   ]
  }
 ],
 "metadata": {
  "application/vnd.databricks.v1+notebook": {
   "computePreferences": null,
   "dashboards": [],
   "environmentMetadata": {
    "base_environment": "",
    "environment_version": "2"
   },
   "inputWidgetPreferences": null,
   "language": "python",
   "notebookMetadata": {
    "pythonIndentUnit": 4
   },
   "notebookName": "Test & Verify Pyspark batch processing",
   "widgets": {
    "param_1": {
     "currentValue": "client",
     "nuid": "3249afef-53cf-401b-b9c0-1e3cedccd357",
     "typedWidgetInfo": {
      "autoCreated": false,
      "defaultValue": "client",
      "label": "",
      "name": "param_1",
      "options": {
       "widgetDisplayType": "Text",
       "validationRegex": null
      },
      "parameterDataType": "String"
     },
     "widgetInfo": {
      "widgetType": "text",
      "defaultValue": "client",
      "label": "",
      "name": "param_1",
      "options": {
       "widgetType": "text",
       "autoCreated": false,
       "validationRegex": null
      }
     }
    }
   }
  },
  "language_info": {
   "name": "python"
  }
 },
 "nbformat": 4,
 "nbformat_minor": 0
}
